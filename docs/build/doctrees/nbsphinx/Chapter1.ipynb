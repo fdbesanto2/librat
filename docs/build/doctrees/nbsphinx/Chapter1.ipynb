{
 "cells": [
  {
   "cell_type": "markdown",
   "metadata": {},
   "source": [
    "# Initialisation\n",
    "\n",
    "Before proceeding, we make sure that an appropriate initialisation ('init') file has been generated. We also want to test that the software runs ok. We generate a `bash` shell to achieve this here, and use to his in subsequent notes. \n",
    "\n",
    "You can modify any of this as a user, but be careful not to break it! 🙄. In an emergency, you can always just re-download this set of notes and software from [github](https://github.com/profLewis/librat) and start again.\n",
    "\n",
    "If you want to know more about setting up this sort of file, and what it all means, see [Appendix 1](Appendix1). At the moment, you just need to be aware of it, not understand all of the intricacies."
   ]
  },
  {
   "cell_type": "code",
   "execution_count": 1,
   "metadata": {},
   "outputs": [],
   "source": [
    "%%bash\n",
    "\n",
    "# change directory from docs/source up to root\n",
    "cd ../..\n",
    "BPMS=${BPMS-$(pwd)}\n",
    "# create the init.sh file we want\n",
    "INIT=$BPMS/test/test_examples/init.sh\n",
    "\n",
    "cat <<EOF > $INIT\n",
    "#!/bin/bash\n",
    "#\n",
    "# preamble \n",
    "#\n",
    "export BPMS=$BPMS\n",
    "# set shell variables lib, bin, verbose\n",
    "# with defaults in case not set \n",
    "lib=\\${lib-\"\\$BPMS/src\"}\n",
    "bin=\\${bin-\"\\$BPMS/src\"}\n",
    "VERBOSE=\\${VERBOSE-0}\n",
    "\n",
    "# set up required environment variables for bash\n",
    "export LD_LIBRARY_PATH=\"\\${lib}:\\${LD_LIBRARY_PATH}\"\n",
    "export DYLD_LIBRARY_PATH=\"\\${lib}:\\${DYLD_LIBRARY_PATH}\"\n",
    "export PATH=\"\\${bin}:\\${PATH}\"\n",
    "\n",
    "# set up required environment variables for librat\n",
    "export BPMSROOT=\\${BPMSROOT-\\$BPMS/test/test_examples}\n",
    "\n",
    "export MATLIB=\\$BPMSROOT\n",
    "export RSRLIB=\\$BPMSROOT\n",
    "export ARARAT_OBJECT=\\$BPMSROOT\n",
    "export DIRECT_ILLUMINATION=\\$BPMSROOT\n",
    "export BPMS_FILES=\\$BPMSROOT\n",
    "if [ \"\\$(which start)\" == \"\\${bin}/start\" ]\n",
    "then\n",
    "  if [ \"\\$VERBOSE\" == 1 ]; then\n",
    "      echo \"start found ok\"\n",
    "  fi\n",
    "else\n",
    "  # we should create them\n",
    "  make clean all \n",
    "fi\n",
    "EOF\n",
    "# set executable mode\n",
    "chmod +x $INIT"
   ]
  },
  {
   "cell_type": "markdown",
   "metadata": {},
   "source": [
    "Let's look at the file we generated:"
   ]
  },
  {
   "cell_type": "code",
   "execution_count": 2,
   "metadata": {},
   "outputs": [
    {
     "name": "stdout",
     "output_type": "stream",
     "text": [
      "#!/bin/bash\n",
      "#\n",
      "# preamble \n",
      "#\n",
      "export BPMS=/Users/plewis/librat\n",
      "# set shell variables lib, bin, verbose\n",
      "# with defaults in case not set \n",
      "lib=${lib-\"$BPMS/src\"}\n",
      "bin=${bin-\"$BPMS/src\"}\n",
      "VERBOSE=${VERBOSE-0}\n",
      "\n",
      "# set up required environment variables for bash\n",
      "export LD_LIBRARY_PATH=\"${lib}:${LD_LIBRARY_PATH}\"\n",
      "export DYLD_LIBRARY_PATH=\"${lib}:${DYLD_LIBRARY_PATH}\"\n",
      "export PATH=\"${bin}:${PATH}\"\n",
      "\n",
      "# set up required environment variables for librat\n",
      "export BPMSROOT=${BPMSROOT-$BPMS/test/test_examples}\n",
      "\n",
      "export MATLIB=$BPMSROOT\n",
      "export RSRLIB=$BPMSROOT\n",
      "export ARARAT_OBJECT=$BPMSROOT\n",
      "export DIRECT_ILLUMINATION=$BPMSROOT\n",
      "export BPMS_FILES=$BPMSROOT\n",
      "if [ \"$(which start)\" == \"${bin}/start\" ]\n",
      "then\n",
      "  if [ \"$VERBOSE\" == 1 ]; then\n",
      "      echo \"start found ok\"\n",
      "  fi\n",
      "else\n",
      "  # we should create them\n",
      "  make clean all \n",
      "fi\n"
     ]
    }
   ],
   "source": [
    "%%bash\n",
    "\n",
    "cat ../../test/test_examples/init.sh"
   ]
  },
  {
   "cell_type": "markdown",
   "metadata": {},
   "source": [
    "## Environment variables\n",
    "\n",
    "We might notice that the init shell sets a number of environment variables, namely `MATLIB`, `RSRLIB` etc. \n",
    "\n",
    "If you are interested, the meaning of these is given in the table below. \n",
    "\n",
    "Alternatively, just notice that in the init shell, all of these variables are set to  `BPMSROOT`, so if we want to point to the location of an object and material database for librat, we need only set the environment variable  `BPMSROOT` appropriately. In this case it defaults to `$BPMS/test/test_example`.\n",
    "\n",
    "If you want to run a shell that uses the `init.sh` setup, you will need to use the command `source` to export the variables to your shell."
   ]
  },
  {
   "cell_type": "code",
   "execution_count": 3,
   "metadata": {},
   "outputs": [
    {
     "name": "stdout",
     "output_type": "stream",
     "text": [
      "MATLIB is set to /Users/plewis/librat/test/test_examples\n"
     ]
    }
   ],
   "source": [
    "%%bash\n",
    "\n",
    "source ../../test/test_examples/init.sh\n",
    "\n",
    "echo \"MATLIB is set to $MATLIB\""
   ]
  },
  {
   "cell_type": "markdown",
   "metadata": {},
   "source": [
    "\n",
    "\n",
    "\n",
    "**Table explaining librat object environment variables:**\n",
    "\n",
    "| Name | File types |\n",
    "|:-|:-|\n",
    "| `MATLIB` | material library e.g. [`plants.matlib`](test/test_examples/plants.matlib), all materials defined in a material library e.g. [`refl/white.dat`](test/test_examples/refl/white.dat)|\n",
    "| `ARARAT_OBJECT` | (extended) wavefront object files e.g. [`first.obj`](test/test_examples/first.obj)  |\n",
    "| `DIRECT_ILLUMINATION` | spectral files for direct illumination: those defined in -RATdirect command line option |\n",
    "| `RSRLIB` | sensor waveband files: those defined in -RATsensor_wavebands command line option |\n",
    "| `BPMS_FILES` | Not used |\n",
    "\n",
    "You can set all of these to the same value, in which case the database of files is all defined relative to that point. This is the most typical use of `librat`. We illustrate this setup below for the `librat` distribution, where a set of examples use files from the directory `test/test_example`.\n",
    "\n",
    "Additionally, the following environment variables can be set to extend the size of some aspects of the model. You would only need to use these in some extreme case.\n",
    "\n",
    "**Table explaining additional librat environment variables:**\n",
    "\n",
    "| Name | Purpose |\n",
    "|:-|:-|\n",
    "| `MAX_GROUPS` | Maximum number of groups allowed (100000) |\n",
    "| `PRAT_MAX_MATERIALS` | Maximum number of materials allowed (DEFAULT_PRAT_MAX_MATERIALS=1024 in `mtllib.h`) |\n",
    "\n",
    "\n"
   ]
  },
  {
   "cell_type": "markdown",
   "metadata": {},
   "source": [
    "You can test the init file by running the cell (shell) below. "
   ]
  },
  {
   "cell_type": "code",
   "execution_count": 4,
   "metadata": {},
   "outputs": [
    {
     "name": "stdout",
     "output_type": "stream",
     "text": [
      "start found ok\n"
     ]
    }
   ],
   "source": [
    "%%bash\n",
    "# test the init file\n",
    "\n",
    "# change directory from docs/source up to root\n",
    "INIT=../../test/test_examples/init.sh\n",
    "\n",
    "export VERBOSE=1\n",
    "$INIT"
   ]
  },
  {
   "cell_type": "markdown",
   "metadata": {},
   "source": [
    "```\n",
    "EXERCISE 1.1\n",
    "\n",
    "    1. Try changing the environment variable VERBOSE to 1 (True) or 0 (False) to see the effect.\n",
    "    \n",
    "    2. You can change the name of the directory where the object and material files are through the environment variable BPMSROOT. See if you can find what BPMSROOT is set to, and also see if yoiu can modify it.\n",
    "    \n",
    "```\n",
    "\n",
    "**Answers below:**"
   ]
  },
  {
   "cell_type": "code",
   "execution_count": 5,
   "metadata": {},
   "outputs": [
    {
     "name": "stdout",
     "output_type": "stream",
     "text": [
      "----set VERBOSE 1---\n",
      "start found ok\n",
      "----set VERBOSE 0---\n",
      "----get BPMSROOT---\n",
      "BPMSROOT is /Users/plewis/librat/test/test_examples\n",
      "----set BPMSROOT---\n",
      "BPMSROOT is /tmp\n"
     ]
    }
   ],
   "source": [
    "%%bash\n",
    "#----------------------\n",
    "# this part same as above\n",
    "#\n",
    "# test the init file\n",
    "INIT=../../test/test_examples/init.sh\n",
    "#----------------------\n",
    "\n",
    "# 1.1.1: Try changing the environment variable VERBOSE to 1\n",
    "# (True) and 0 (False) to see the effect.\n",
    "\n",
    "# ANSWER\n",
    "# this sets verbose mode and prints a message\n",
    "# 'start found ok' if it finds the librat start\n",
    "# executable\n",
    "echo  \"----set VERBOSE 1---\"\n",
    "export VERBOSE=1\n",
    "$INIT\n",
    "\n",
    "# this turns off the verbose mode\n",
    "# so no message is printed\n",
    "echo \"----set VERBOSE 0---\"\n",
    "export VERBOSE=0\n",
    "$INIT\n",
    "\n",
    "# 1.1.2: You can change the name of the directory where the \n",
    "# object and material files are through the \n",
    "# environment variable BPMSROOT. \n",
    "# See if you can find what BPMSROOT is set to, \n",
    "# and also see if yoiu can modify it.\n",
    "\n",
    "# ANSWER\n",
    "# we need to see the value of the \n",
    "# environment variable BPMSROOT, but we need it \n",
    "# in this shell. So we *source* the file\n",
    "# rather than running it.\n",
    "echo \"----get BPMSROOT---\"\n",
    "source $INIT\n",
    "echo \"BPMSROOT is $BPMSROOT\"\n",
    "echo \"----set BPMSROOT---\"\n",
    "# To change it, just set it before sourcing\n",
    "export BPMSROOT=\"/tmp\"\n",
    "source $INIT\n",
    "echo \"BPMSROOT is $BPMSROOT\""
   ]
  },
  {
   "cell_type": "markdown",
   "metadata": {},
   "source": [
    "## Making files\n",
    "\n",
    "We will create the files we need as we go along, using `bash` shell `cat <<EOF > filename` syntax. You may have noticed that we did this above in creating the `init` file. \n",
    "\n",
    "If we type:\n",
    "\n",
    "    cat <<EOF > filename\n",
    "    this is line 1\n",
    "    this is line 2\n",
    "    EOF\n",
    "    \n",
    "then a file called `filename` will be generated, containing the information up to the `EOF` marker:\n",
    "\n",
    "    this is line 1\n",
    "    this is line 2\n",
    "   \n",
    "   \n",
    "Wew can try that now:\n",
    "\n",
    "We first create a directory to do our work (using the `linux` command `mkdir` in a `bash` shell):"
   ]
  },
  {
   "cell_type": "code",
   "execution_count": 6,
   "metadata": {},
   "outputs": [],
   "source": [
    "%%bash\n",
    "export BPMS=../..\n",
    "mkdir -p $BPMS/test/test_examples"
   ]
  },
  {
   "cell_type": "markdown",
   "metadata": {},
   "source": [
    "Now we will put some text in a file in that directory:"
   ]
  },
  {
   "cell_type": "code",
   "execution_count": 7,
   "metadata": {},
   "outputs": [],
   "source": [
    "%%bash\n",
    "export BPMS=../..\n",
    "cd $BPMS\n",
    "export BPMS=$(pwd)\n",
    "\n",
    "cat <<EOF > $BPMS/test/test_examples/first.obj\n",
    "# My first object file\n",
    "mtllib plants.matlib \n",
    "usemtl green \n",
    "v 0 0 0 \n",
    "v 0 0 1 \n",
    "plane -1 -2 \n",
    "!{\n",
    "usemtl white \n",
    "!{ \n",
    "v 0 0 1000 \n",
    "ell -1 30000 30000 30000 \n",
    "!} \n",
    "!}\n",
    "EOF\n",
    "\n",
    "cat <<EOF > $BPMS/test/test_examples/wavebands.dat\n",
    "1 1\n",
    "2 1\n",
    "EOF\n",
    "\n",
    "cat <<EOF > $BPMS/test/test_examples/white.dat\n",
    "40 1.0\n",
    "300 0.5\n",
    "EOF\n",
    "\n",
    "cat <<EOF > $BPMS/test/test_examples/plants.matlib \n",
    "srm green white.dat\n",
    "srm white white.dat\n",
    "EOF"
   ]
  },
  {
   "cell_type": "markdown",
   "metadata": {},
   "source": [
    "And now run a simple example:"
   ]
  },
  {
   "cell_type": "code",
   "execution_count": 8,
   "metadata": {},
   "outputs": [
    {
     "name": "stdout",
     "output_type": "stream",
     "text": [
      "RTD 0\n",
      "order: 0\tintersection point:\t6.000000 6.000000 0.000020\n",
      "\t\tray length:\t\t39999.999980\n",
      "\t\tintersection material:\t2\n",
      "\t\tsun 0:\t\t\t1 reflectance\n",
      "lengthToSun: 7.874008 angleToSun 82.703725\n",
      "\t\tdirect:\t\t\t0.127000 0.127000 \n",
      "\t\tsky  :\t\t\treflectance\n",
      "\t\tdiffuse:\t\t0.000000 0.000000 \n"
     ]
    }
   ],
   "source": [
    "%%bash\n",
    "export BPMS=../..\n",
    "cd $BPMS\n",
    "export BPMS=$(pwd)\n",
    "source $BPMS/test/test_examples/init.sh\n",
    "\n",
    "echo 6 6 6 40000 0 0 -1 | start -RATsensor_wavebands $BPMS/test/test_examples/wavebands.dat -RATsun_position 0 1 1 $BPMS/test/test_examples/first.obj"
   ]
  },
  {
   "cell_type": "code",
   "execution_count": 9,
   "metadata": {
    "scrolled": true
   },
   "outputs": [
    {
     "name": "stdout",
     "output_type": "stream",
     "text": [
      "x: -29994.000300 30006.000300\n",
      "y: -29994.000300 30006.000300\n",
      "z: 1000.200010 61012.200610\n",
      "bbox centre @ 6.000000 6.000000 31006.200310\n",
      "wavebands: 40.461336 304.242129 232.325066 \n",
      "RTD 0\n",
      "order: 0\tintersection point:\t6.000000 6.000000 60999.998810\n",
      "\t\tray length:\t\t19000.001190\n",
      "\t\tintersection material:\t3\n",
      "\t\tsun 0:\t\t\t1 reflectance\n",
      "\t\tdirect:\t\t\t0.707248 0.707248 0.707248 \n",
      "\t\tsun 1:\t\t\t1 reflectance\n",
      "\t\tdirect:\t\t\t0.577581 0.577581 0.577581 \n",
      "\t\tsky  :\t\t\treflectance\n",
      "\t\tdiffuse:\t\t1.000000 1.000000 1.000000 \n"
     ]
    },
    {
     "name": "stderr",
     "output_type": "stream",
     "text": [
      "how many sun vectors? (>0): enter sun vector number 1 (3 floats): enter sun vector number 2 (3 floats): "
     ]
    }
   ],
   "source": [
    "%%bash\n",
    "export BPMS=../..\n",
    "source $BPMS/test/test_examples/init.sh\n",
    "\n",
    "cat <<EOF | start $BPMS/test/test_examples/first.obj\n",
    "11\n",
    "1 2 0 1 1 1 1 1\n",
    "3 3 1 300 2 400 3 500\n",
    "4\n",
    "6 6 6 80000 0 0 -1\n",
    "EOF\n"
   ]
  },
  {
   "cell_type": "code",
   "execution_count": 10,
   "metadata": {},
   "outputs": [
    {
     "name": "stderr",
     "output_type": "stream",
     "text": [
      "options:\n",
      "\t-2                   : print PID\n",
      "\t-1                   : print memory use\n",
      "\t 0                   : quit\n",
      "\t 1 n s1x s1y s1z ... : set sun vectors\n",
      "\t 2                   : print sun vectors\n",
      "\t 3 n b1 w1 ...i bn wn: set wavebands\n",
      "\t 4                   : print wavebands\n",
      "\t 5 file.obj          : read object file\n",
      "\t 6 fx fy fz dx dy dz : trace ray from f in direction d\n",
      "\t 7                   : get and print materials\n",
      "\t 8                   : print object information\n",
      "\t 9                   : print info on materials used\n",
      "\t 10                  : get and set verbosity level (0-1)\n",
      "\t 11                  : get and print object bbox information\n",
      "\t 12\t\t       :\n",
      "\t 13                  : same as 14 assuming filenames camera.dat light.dat\n",
      "\t 14 camera.dat light.dat                : ray tracing using defined camera & illumination\n",
      "\t 15 \t\t       : dont go there\n",
      "\t 16 cx cy cz sx sy nrows ncols rpp name : produce a height map in name\n"
     ]
    }
   ],
   "source": [
    "%%bash\n",
    "export BPMS=../..\n",
    "source $BPMS/test/test_examples/init.sh\n",
    "echo 10000 | start $BPMS/test/test_examples/first.obj"
   ]
  },
  {
   "cell_type": "code",
   "execution_count": null,
   "metadata": {},
   "outputs": [],
   "source": []
  },
  {
   "cell_type": "code",
   "execution_count": null,
   "metadata": {},
   "outputs": [],
   "source": []
  }
 ],
 "metadata": {
  "kernelspec": {
   "display_name": "Python 3",
   "language": "python",
   "name": "python3"
  },
  "language_info": {
   "codemirror_mode": {
    "name": "ipython",
    "version": 3
   },
   "file_extension": ".py",
   "mimetype": "text/x-python",
   "name": "python",
   "nbconvert_exporter": "python",
   "pygments_lexer": "ipython3",
   "version": "3.8.2"
  }
 },
 "nbformat": 4,
 "nbformat_minor": 2
}
